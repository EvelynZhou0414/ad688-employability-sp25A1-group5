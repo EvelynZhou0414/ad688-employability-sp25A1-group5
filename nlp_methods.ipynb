{
 "cells": [
  {
   "cell_type": "code",
   "execution_count": null,
   "id": "3e2024e4",
   "metadata": {},
   "outputs": [
    {
     "name": "stdout",
     "output_type": "stream",
     "text": [
      "Classification Report:\n",
      "                                   precision    recall  f1-score   support\n",
      "\n",
      "      Business Analyst (General)       0.74      0.62      0.67      1355\n",
      "   Business Intelligence Analyst       0.86      0.71      0.77      1116\n",
      "                    Data Analyst       0.85      0.95      0.90      8326\n",
      "            Data Quality Analyst       0.76      0.56      0.64       326\n",
      "            Enterprise Architect       0.97      0.94      0.95      2458\n",
      "          Financial Data Analyst       0.79      0.53      0.63       333\n",
      "General ERP Analyst / Consultant       0.84      0.83      0.84      3014\n",
      "              Healthcare Analyst       0.88      0.51      0.64        75\n",
      "               Marketing Analyst       0.78      0.13      0.23        53\n",
      "     Oracle Consultant / Analyst       0.94      0.92      0.93      2406\n",
      "             SAP Analyst / Admin       0.79      0.76      0.77      2281\n",
      "\n",
      "                        accuracy                           0.86     21743\n",
      "                       macro avg       0.84      0.68      0.73     21743\n",
      "                    weighted avg       0.86      0.86      0.86     21743\n",
      "\n",
      "Confusion Matrix:\n",
      " [[ 838   15  357    7   11    8   38    0    2   13   66]\n",
      " [  26  787  272    3    2    1    3    0    0    5   17]\n",
      " [ 101   89 7921   35   25   19   39    2    0   27   68]\n",
      " [   8    0  130  182    0    2    0    0    0    1    3]\n",
      " [  14    1   62    0 2321    4   38    0    0   12    6]\n",
      " [  14    1  120    1    0  176    1    0    0    1   19]\n",
      " [  44   13  156    3   27    0 2503    3    0   50  215]\n",
      " [  13    1   19    0    0    0    3   38    0    1    0]\n",
      " [  14    1   18    0    0    0    4    0    7    0    9]\n",
      " [  13    5   77    1   10    3   42    0    0 2204   51]\n",
      " [  43    4  169    7    9   10  292    0    0   21 1726]]\n"
     ]
    },
    {
     "ename": "",
     "evalue": "",
     "output_type": "error",
     "traceback": [
      "\u001b[1;31mThe Kernel crashed while executing code in the current cell or a previous cell. \n",
      "\u001b[1;31mPlease review the code in the cell(s) to identify a possible cause of the failure. \n",
      "\u001b[1;31mClick <a href='https://aka.ms/vscodeJupyterKernelCrash'>here</a> for more info. \n",
      "\u001b[1;31mView Jupyter <a href='command:jupyter.viewOutput'>log</a> for further details."
     ]
    }
   ],
   "source": [
    "import pandas as pd\n",
    "from sklearn.feature_extraction.text import TfidfVectorizer\n",
    "from sklearn.linear_model import LogisticRegression\n",
    "from sklearn.model_selection import train_test_split\n",
    "from sklearn.metrics import classification_report, confusion_matrix\n",
    "\n",
    "df = pd.read_csv(\"lightcast_job_postings.csv\")\n",
    "df = df[df['BODY'].notnull()]  \n",
    "\n",
    "X_text = df['BODY']\n",
    "y = df['LOT_SPECIALIZED_OCCUPATION_NAME']  \n",
    "\n",
    "tfidf = TfidfVectorizer(stop_words='english', max_features=1000)\n",
    "X_tfidf = tfidf.fit_transform(X_text)\n",
    "\n",
    "X_train, X_test, y_train, y_test = train_test_split(X_tfidf, y, test_size=0.3, random_state=42)\n",
    "\n",
    "clf = LogisticRegression(max_iter=200)\n",
    "clf.fit(X_train, y_train)\n",
    "\n",
    "y_pred = clf.predict(X_test)\n",
    "\n",
    "print(\"Classification Report:\\n\", classification_report(y_test, y_pred))\n",
    "print(\"Confusion Matrix:\\n\", confusion_matrix(y_test, y_pred))"
   ]
  },
  {
   "cell_type": "code",
   "execution_count": null,
   "id": "b2d97a34",
   "metadata": {},
   "outputs": [],
   "source": [
    "from wordcloud import WordCloud\n",
    "import matplotlib.pyplot as plt\n",
    "\n",
    "ai_keywords = ['ai', 'artificial', 'machine learning', 'deep learning', \n",
    "               'data scientist', 'nlp', 'computer vision', 'ml', 'llm', \n",
    "               'analyst', 'engineer', 'developer']\n",
    "\n",
    "\n",
    "def is_ai_job(text):\n",
    "    if pd.isnull(text):\n",
    "        return 0\n",
    "    return int(any(kw.lower() in text.lower() for kw in ai_keywords))\n",
    "\n",
    "df['IS_AI_ROLE'] = df['LOT_SPECIALIZED_OCCUPATION_NAME'].apply(is_ai_job)\n",
    "\n",
    "ai_text = ' '.join(df[df['IS_AI_ROLE'] == 1]['BODY'].dropna())\n",
    "nonai_text = ' '.join(df[df['IS_AI_ROLE'] == 0]['BODY'].dropna())\n",
    "\n",
    "ai_wc = WordCloud(width=800, height=400, background_color='white', stopwords='english').generate(ai_text)\n",
    "nonai_wc = WordCloud(width=800, height=400, background_color='white', stopwords='english').generate(nonai_text)\n",
    "\n",
    "plt.figure(figsize=(10, 5))\n",
    "plt.imshow(ai_wc, interpolation='bilinear')\n",
    "plt.axis('off')\n",
    "plt.title('AI Job Word Cloud')\n",
    "plt.show()\n",
    "\n",
    "plt.figure(figsize=(10, 5))\n",
    "plt.imshow(nonai_wc, interpolation='bilinear')\n",
    "plt.axis('off')\n",
    "plt.title('Non-AI Job WordCloud')\n",
    "plt.show()"
   ]
  }
 ],
 "metadata": {
  "kernelspec": {
   "display_name": "venv",
   "language": "python",
   "name": "python3"
  },
  "language_info": {
   "codemirror_mode": {
    "name": "ipython",
    "version": 3
   },
   "file_extension": ".py",
   "mimetype": "text/x-python",
   "name": "python",
   "nbconvert_exporter": "python",
   "pygments_lexer": "ipython3",
   "version": "3.12.3"
  }
 },
 "nbformat": 4,
 "nbformat_minor": 5
}
